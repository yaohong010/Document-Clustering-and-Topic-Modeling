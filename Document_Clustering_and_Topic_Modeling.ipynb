{
  "nbformat": 4,
  "nbformat_minor": 0,
  "metadata": {
    "colab": {
      "name": "Document Clustering and Topic Modeling.ipynb",
      "provenance": [],
      "collapsed_sections": []
    },
    "kernelspec": {
      "name": "python3",
      "display_name": "Python 3"
    },
    "language_info": {
      "name": "python"
    }
  },
  "cells": [
    {
      "cell_type": "markdown",
      "source": [
        "# Contents\n",
        "\n",
        "Part 1: Load Data\n",
        "\n",
        "Part 2: Tokenizing and Stemming\n",
        "\n",
        "Part 3: TF-IDF\n",
        "\n",
        "Part 4: K-means Clustering\n",
        "\n",
        "Part 5: Topic Modeling - Latent Dirichlet Allocation"
      ],
      "metadata": {
        "id": "3TNAKDWZSnzL"
      }
    },
    {
      "cell_type": "markdown",
      "source": [
        "## Part 1: Load Data"
      ],
      "metadata": {
        "id": "O_XhTcAwUlEV"
      }
    },
    {
      "cell_type": "code",
      "source": [
        "from google.colab import drive\n",
        "drive.mount('/content/drive')"
      ],
      "metadata": {
        "colab": {
          "base_uri": "https://localhost:8080/"
        },
        "id": "wGBA6zw9Z4j-",
        "outputId": "58fec838-fca0-4c0e-aa99-16184aead6cf"
      },
      "execution_count": 1,
      "outputs": [
        {
          "output_type": "stream",
          "name": "stdout",
          "text": [
            "Mounted at /content/drive\n"
          ]
        }
      ]
    },
    {
      "cell_type": "code",
      "source": [
        "%cd /content/drive/My Drive/Colab Notebooks"
      ],
      "metadata": {
        "colab": {
          "base_uri": "https://localhost:8080/"
        },
        "id": "XK_wJo6KZ4h1",
        "outputId": "5bacd26c-8ddf-4ec5-9707-0a7b0aa2efa7"
      },
      "execution_count": 2,
      "outputs": [
        {
          "output_type": "stream",
          "name": "stdout",
          "text": [
            "/content/drive/My Drive/Colab Notebooks\n"
          ]
        }
      ]
    },
    {
      "cell_type": "code",
      "execution_count": 3,
      "metadata": {
        "colab": {
          "base_uri": "https://localhost:8080/"
        },
        "id": "VMZZRFkpSZ5S",
        "outputId": "09c179a0-f0ac-4e15-af7f-792d9978aef5"
      },
      "outputs": [
        {
          "output_type": "stream",
          "name": "stderr",
          "text": [
            "[nltk_data] Downloading package punkt to /root/nltk_data...\n",
            "[nltk_data]   Unzipping tokenizers/punkt.zip.\n",
            "[nltk_data] Downloading package stopwords to /root/nltk_data...\n",
            "[nltk_data]   Unzipping corpora/stopwords.zip.\n"
          ]
        },
        {
          "output_type": "execute_result",
          "data": {
            "text/plain": [
              "True"
            ]
          },
          "metadata": {},
          "execution_count": 3
        }
      ],
      "source": [
        "import numpy as np\n",
        "import pandas as pd\n",
        "import nltk\n",
        "\n",
        "from sklearn.feature_extraction.text import TfidfVectorizer\n",
        "import matplotlib.pyplot as plt\n",
        "\n",
        "nltk.download('punkt')\n",
        "nltk.download('stopwords')"
      ]
    },
    {
      "cell_type": "code",
      "source": [
        "# Load data into dataframe\n",
        "df = pd.read_csv('watch_reviews.tsv', sep='\\t', error_bad_lines=False)"
      ],
      "metadata": {
        "colab": {
          "base_uri": "https://localhost:8080/"
        },
        "id": "J6eoJZSqU_NZ",
        "outputId": "bec1c37c-254a-4f97-db9a-a57279d34b35"
      },
      "execution_count": 4,
      "outputs": [
        {
          "output_type": "stream",
          "name": "stderr",
          "text": [
            "/usr/local/lib/python3.7/dist-packages/IPython/core/interactiveshell.py:3326: FutureWarning: The error_bad_lines argument has been deprecated and will be removed in a future version.\n",
            "\n",
            "\n",
            "  exec(code_obj, self.user_global_ns, self.user_ns)\n",
            "b'Skipping line 8704: expected 15 fields, saw 22\\nSkipping line 16933: expected 15 fields, saw 22\\nSkipping line 23726: expected 15 fields, saw 22\\n'\n",
            "b'Skipping line 85637: expected 15 fields, saw 22\\n'\n",
            "b'Skipping line 132136: expected 15 fields, saw 22\\nSkipping line 158070: expected 15 fields, saw 22\\nSkipping line 166007: expected 15 fields, saw 22\\nSkipping line 171877: expected 15 fields, saw 22\\nSkipping line 177756: expected 15 fields, saw 22\\nSkipping line 181773: expected 15 fields, saw 22\\nSkipping line 191085: expected 15 fields, saw 22\\nSkipping line 196273: expected 15 fields, saw 22\\nSkipping line 196331: expected 15 fields, saw 22\\n'\n",
            "b'Skipping line 197000: expected 15 fields, saw 22\\nSkipping line 197011: expected 15 fields, saw 22\\nSkipping line 197432: expected 15 fields, saw 22\\nSkipping line 208016: expected 15 fields, saw 22\\nSkipping line 214110: expected 15 fields, saw 22\\nSkipping line 244328: expected 15 fields, saw 22\\nSkipping line 248519: expected 15 fields, saw 22\\nSkipping line 254936: expected 15 fields, saw 22\\n'\n",
            "b'Skipping line 272057: expected 15 fields, saw 22\\nSkipping line 293214: expected 15 fields, saw 22\\nSkipping line 310507: expected 15 fields, saw 22\\nSkipping line 312306: expected 15 fields, saw 22\\nSkipping line 316296: expected 15 fields, saw 22\\n'\n",
            "b'Skipping line 336028: expected 15 fields, saw 22\\nSkipping line 344885: expected 15 fields, saw 22\\nSkipping line 352551: expected 15 fields, saw 22\\n'\n",
            "b'Skipping line 408773: expected 15 fields, saw 22\\nSkipping line 434535: expected 15 fields, saw 22\\n'\n",
            "b'Skipping line 581593: expected 15 fields, saw 22\\n'\n",
            "b'Skipping line 652409: expected 15 fields, saw 22\\n'\n"
          ]
        }
      ]
    },
    {
      "cell_type": "code",
      "source": [
        "df.head()"
      ],
      "metadata": {
        "colab": {
          "base_uri": "https://localhost:8080/",
          "height": 424
        },
        "id": "_jEUUE4rU_H-",
        "outputId": "87889d39-54ad-4cb0-9e17-9c31cafaf4c9"
      },
      "execution_count": null,
      "outputs": [
        {
          "output_type": "execute_result",
          "data": {
            "text/plain": [
              "  marketplace  customer_id       review_id  product_id  product_parent  \\\n",
              "0          US      3653882  R3O9SGZBVQBV76  B00FALQ1ZC       937001370   \n",
              "1          US     14661224   RKH8BNC3L5DLF  B00D3RGO20       484010722   \n",
              "2          US     27324930  R2HLE8WKZSU3NL  B00DKYC7TK       361166390   \n",
              "3          US      7211452  R31U3UH5AZ42LL  B000EQS1JW       958035625   \n",
              "4          US     12733322  R2SV659OUJ945Y  B00A6GFD7S       765328221   \n",
              "\n",
              "                                       product_title product_category  \\\n",
              "0  Invicta Women's 15150 \"Angel\" 18k Yellow Gold ...          Watches   \n",
              "1  Kenneth Cole New York Women's KC4944 Automatic...          Watches   \n",
              "2  Ritche 22mm Black Stainless Steel Bracelet Wat...          Watches   \n",
              "3  Citizen Men's BM8180-03E Eco-Drive Stainless S...          Watches   \n",
              "4  Orient ER27009B Men's Symphony Automatic Stain...          Watches   \n",
              "\n",
              "   star_rating  helpful_votes  total_votes vine verified_purchase  \\\n",
              "0            5              0            0    N                 Y   \n",
              "1            5              0            0    N                 Y   \n",
              "2            2              1            1    N                 Y   \n",
              "3            5              0            0    N                 Y   \n",
              "4            4              0            0    N                 Y   \n",
              "\n",
              "                              review_headline  \\\n",
              "0                                  Five Stars   \n",
              "1  I love thiswatch it keeps time wonderfully   \n",
              "2                                   Two Stars   \n",
              "3                                  Five Stars   \n",
              "4    Beautiful face, but cheap sounding links   \n",
              "\n",
              "                                         review_body review_date  \n",
              "0  Absolutely love this watch! Get compliments al...  2015-08-31  \n",
              "1       I love this watch it keeps time wonderfully.  2015-08-31  \n",
              "2                                          Scratches  2015-08-31  \n",
              "3  It works well on me. However, I found cheaper ...  2015-08-31  \n",
              "4  Beautiful watch face.  The band looks nice all...  2015-08-31  "
            ],
            "text/html": [
              "\n",
              "  <div id=\"df-af2b4e9d-4004-496e-85c0-bbe0b383b5cb\">\n",
              "    <div class=\"colab-df-container\">\n",
              "      <div>\n",
              "<style scoped>\n",
              "    .dataframe tbody tr th:only-of-type {\n",
              "        vertical-align: middle;\n",
              "    }\n",
              "\n",
              "    .dataframe tbody tr th {\n",
              "        vertical-align: top;\n",
              "    }\n",
              "\n",
              "    .dataframe thead th {\n",
              "        text-align: right;\n",
              "    }\n",
              "</style>\n",
              "<table border=\"1\" class=\"dataframe\">\n",
              "  <thead>\n",
              "    <tr style=\"text-align: right;\">\n",
              "      <th></th>\n",
              "      <th>marketplace</th>\n",
              "      <th>customer_id</th>\n",
              "      <th>review_id</th>\n",
              "      <th>product_id</th>\n",
              "      <th>product_parent</th>\n",
              "      <th>product_title</th>\n",
              "      <th>product_category</th>\n",
              "      <th>star_rating</th>\n",
              "      <th>helpful_votes</th>\n",
              "      <th>total_votes</th>\n",
              "      <th>vine</th>\n",
              "      <th>verified_purchase</th>\n",
              "      <th>review_headline</th>\n",
              "      <th>review_body</th>\n",
              "      <th>review_date</th>\n",
              "    </tr>\n",
              "  </thead>\n",
              "  <tbody>\n",
              "    <tr>\n",
              "      <th>0</th>\n",
              "      <td>US</td>\n",
              "      <td>3653882</td>\n",
              "      <td>R3O9SGZBVQBV76</td>\n",
              "      <td>B00FALQ1ZC</td>\n",
              "      <td>937001370</td>\n",
              "      <td>Invicta Women's 15150 \"Angel\" 18k Yellow Gold ...</td>\n",
              "      <td>Watches</td>\n",
              "      <td>5</td>\n",
              "      <td>0</td>\n",
              "      <td>0</td>\n",
              "      <td>N</td>\n",
              "      <td>Y</td>\n",
              "      <td>Five Stars</td>\n",
              "      <td>Absolutely love this watch! Get compliments al...</td>\n",
              "      <td>2015-08-31</td>\n",
              "    </tr>\n",
              "    <tr>\n",
              "      <th>1</th>\n",
              "      <td>US</td>\n",
              "      <td>14661224</td>\n",
              "      <td>RKH8BNC3L5DLF</td>\n",
              "      <td>B00D3RGO20</td>\n",
              "      <td>484010722</td>\n",
              "      <td>Kenneth Cole New York Women's KC4944 Automatic...</td>\n",
              "      <td>Watches</td>\n",
              "      <td>5</td>\n",
              "      <td>0</td>\n",
              "      <td>0</td>\n",
              "      <td>N</td>\n",
              "      <td>Y</td>\n",
              "      <td>I love thiswatch it keeps time wonderfully</td>\n",
              "      <td>I love this watch it keeps time wonderfully.</td>\n",
              "      <td>2015-08-31</td>\n",
              "    </tr>\n",
              "    <tr>\n",
              "      <th>2</th>\n",
              "      <td>US</td>\n",
              "      <td>27324930</td>\n",
              "      <td>R2HLE8WKZSU3NL</td>\n",
              "      <td>B00DKYC7TK</td>\n",
              "      <td>361166390</td>\n",
              "      <td>Ritche 22mm Black Stainless Steel Bracelet Wat...</td>\n",
              "      <td>Watches</td>\n",
              "      <td>2</td>\n",
              "      <td>1</td>\n",
              "      <td>1</td>\n",
              "      <td>N</td>\n",
              "      <td>Y</td>\n",
              "      <td>Two Stars</td>\n",
              "      <td>Scratches</td>\n",
              "      <td>2015-08-31</td>\n",
              "    </tr>\n",
              "    <tr>\n",
              "      <th>3</th>\n",
              "      <td>US</td>\n",
              "      <td>7211452</td>\n",
              "      <td>R31U3UH5AZ42LL</td>\n",
              "      <td>B000EQS1JW</td>\n",
              "      <td>958035625</td>\n",
              "      <td>Citizen Men's BM8180-03E Eco-Drive Stainless S...</td>\n",
              "      <td>Watches</td>\n",
              "      <td>5</td>\n",
              "      <td>0</td>\n",
              "      <td>0</td>\n",
              "      <td>N</td>\n",
              "      <td>Y</td>\n",
              "      <td>Five Stars</td>\n",
              "      <td>It works well on me. However, I found cheaper ...</td>\n",
              "      <td>2015-08-31</td>\n",
              "    </tr>\n",
              "    <tr>\n",
              "      <th>4</th>\n",
              "      <td>US</td>\n",
              "      <td>12733322</td>\n",
              "      <td>R2SV659OUJ945Y</td>\n",
              "      <td>B00A6GFD7S</td>\n",
              "      <td>765328221</td>\n",
              "      <td>Orient ER27009B Men's Symphony Automatic Stain...</td>\n",
              "      <td>Watches</td>\n",
              "      <td>4</td>\n",
              "      <td>0</td>\n",
              "      <td>0</td>\n",
              "      <td>N</td>\n",
              "      <td>Y</td>\n",
              "      <td>Beautiful face, but cheap sounding links</td>\n",
              "      <td>Beautiful watch face.  The band looks nice all...</td>\n",
              "      <td>2015-08-31</td>\n",
              "    </tr>\n",
              "  </tbody>\n",
              "</table>\n",
              "</div>\n",
              "      <button class=\"colab-df-convert\" onclick=\"convertToInteractive('df-af2b4e9d-4004-496e-85c0-bbe0b383b5cb')\"\n",
              "              title=\"Convert this dataframe to an interactive table.\"\n",
              "              style=\"display:none;\">\n",
              "        \n",
              "  <svg xmlns=\"http://www.w3.org/2000/svg\" height=\"24px\"viewBox=\"0 0 24 24\"\n",
              "       width=\"24px\">\n",
              "    <path d=\"M0 0h24v24H0V0z\" fill=\"none\"/>\n",
              "    <path d=\"M18.56 5.44l.94 2.06.94-2.06 2.06-.94-2.06-.94-.94-2.06-.94 2.06-2.06.94zm-11 1L8.5 8.5l.94-2.06 2.06-.94-2.06-.94L8.5 2.5l-.94 2.06-2.06.94zm10 10l.94 2.06.94-2.06 2.06-.94-2.06-.94-.94-2.06-.94 2.06-2.06.94z\"/><path d=\"M17.41 7.96l-1.37-1.37c-.4-.4-.92-.59-1.43-.59-.52 0-1.04.2-1.43.59L10.3 9.45l-7.72 7.72c-.78.78-.78 2.05 0 2.83L4 21.41c.39.39.9.59 1.41.59.51 0 1.02-.2 1.41-.59l7.78-7.78 2.81-2.81c.8-.78.8-2.07 0-2.86zM5.41 20L4 18.59l7.72-7.72 1.47 1.35L5.41 20z\"/>\n",
              "  </svg>\n",
              "      </button>\n",
              "      \n",
              "  <style>\n",
              "    .colab-df-container {\n",
              "      display:flex;\n",
              "      flex-wrap:wrap;\n",
              "      gap: 12px;\n",
              "    }\n",
              "\n",
              "    .colab-df-convert {\n",
              "      background-color: #E8F0FE;\n",
              "      border: none;\n",
              "      border-radius: 50%;\n",
              "      cursor: pointer;\n",
              "      display: none;\n",
              "      fill: #1967D2;\n",
              "      height: 32px;\n",
              "      padding: 0 0 0 0;\n",
              "      width: 32px;\n",
              "    }\n",
              "\n",
              "    .colab-df-convert:hover {\n",
              "      background-color: #E2EBFA;\n",
              "      box-shadow: 0px 1px 2px rgba(60, 64, 67, 0.3), 0px 1px 3px 1px rgba(60, 64, 67, 0.15);\n",
              "      fill: #174EA6;\n",
              "    }\n",
              "\n",
              "    [theme=dark] .colab-df-convert {\n",
              "      background-color: #3B4455;\n",
              "      fill: #D2E3FC;\n",
              "    }\n",
              "\n",
              "    [theme=dark] .colab-df-convert:hover {\n",
              "      background-color: #434B5C;\n",
              "      box-shadow: 0px 1px 3px 1px rgba(0, 0, 0, 0.15);\n",
              "      filter: drop-shadow(0px 1px 2px rgba(0, 0, 0, 0.3));\n",
              "      fill: #FFFFFF;\n",
              "    }\n",
              "  </style>\n",
              "\n",
              "      <script>\n",
              "        const buttonEl =\n",
              "          document.querySelector('#df-af2b4e9d-4004-496e-85c0-bbe0b383b5cb button.colab-df-convert');\n",
              "        buttonEl.style.display =\n",
              "          google.colab.kernel.accessAllowed ? 'block' : 'none';\n",
              "\n",
              "        async function convertToInteractive(key) {\n",
              "          const element = document.querySelector('#df-af2b4e9d-4004-496e-85c0-bbe0b383b5cb');\n",
              "          const dataTable =\n",
              "            await google.colab.kernel.invokeFunction('convertToInteractive',\n",
              "                                                     [key], {});\n",
              "          if (!dataTable) return;\n",
              "\n",
              "          const docLinkHtml = 'Like what you see? Visit the ' +\n",
              "            '<a target=\"_blank\" href=https://colab.research.google.com/notebooks/data_table.ipynb>data table notebook</a>'\n",
              "            + ' to learn more about interactive tables.';\n",
              "          element.innerHTML = '';\n",
              "          dataTable['output_type'] = 'display_data';\n",
              "          await google.colab.output.renderOutput(dataTable, element);\n",
              "          const docLink = document.createElement('div');\n",
              "          docLink.innerHTML = docLinkHtml;\n",
              "          element.appendChild(docLink);\n",
              "        }\n",
              "      </script>\n",
              "    </div>\n",
              "  </div>\n",
              "  "
            ]
          },
          "metadata": {},
          "execution_count": 5
        }
      ]
    },
    {
      "cell_type": "code",
      "source": [
        "# Remove missing reviews\n",
        "df.dropna(subset=['review_body'],inplace=True)"
      ],
      "metadata": {
        "id": "ijLYHNNiU-6O"
      },
      "execution_count": 5,
      "outputs": []
    },
    {
      "cell_type": "code",
      "source": [
        "df.reset_index(inplace=True, drop=True)"
      ],
      "metadata": {
        "id": "FSEVe3hHaR-U"
      },
      "execution_count": 6,
      "outputs": []
    },
    {
      "cell_type": "code",
      "source": [
        "df.info()"
      ],
      "metadata": {
        "colab": {
          "base_uri": "https://localhost:8080/"
        },
        "id": "9lkJY8jQaR8N",
        "outputId": "92580e55-664f-4386-8030-8bcb2d742e8c"
      },
      "execution_count": 7,
      "outputs": [
        {
          "output_type": "stream",
          "name": "stdout",
          "text": [
            "<class 'pandas.core.frame.DataFrame'>\n",
            "RangeIndex: 960056 entries, 0 to 960055\n",
            "Data columns (total 15 columns):\n",
            " #   Column             Non-Null Count   Dtype \n",
            "---  ------             --------------   ----- \n",
            " 0   marketplace        960056 non-null  object\n",
            " 1   customer_id        960056 non-null  int64 \n",
            " 2   review_id          960056 non-null  object\n",
            " 3   product_id         960056 non-null  object\n",
            " 4   product_parent     960056 non-null  int64 \n",
            " 5   product_title      960054 non-null  object\n",
            " 6   product_category   960056 non-null  object\n",
            " 7   star_rating        960056 non-null  int64 \n",
            " 8   helpful_votes      960056 non-null  int64 \n",
            " 9   total_votes        960056 non-null  int64 \n",
            " 10  vine               960056 non-null  object\n",
            " 11  verified_purchase  960056 non-null  object\n",
            " 12  review_headline    960049 non-null  object\n",
            " 13  review_body        960056 non-null  object\n",
            " 14  review_date        960052 non-null  object\n",
            "dtypes: int64(5), object(10)\n",
            "memory usage: 109.9+ MB\n"
          ]
        }
      ]
    },
    {
      "cell_type": "code",
      "source": [
        "# use the first 1000 data as our training data\n",
        "data = df.loc[:999, 'review_body'].tolist()"
      ],
      "metadata": {
        "id": "iEjb6zFZaT30"
      },
      "execution_count": 8,
      "outputs": []
    },
    {
      "cell_type": "code",
      "source": [
        "data[0:5]"
      ],
      "metadata": {
        "colab": {
          "base_uri": "https://localhost:8080/"
        },
        "id": "o8hhbBRYaT1q",
        "outputId": "996278ab-1779-4ead-97c3-3df04d99e0d2"
      },
      "execution_count": 9,
      "outputs": [
        {
          "output_type": "execute_result",
          "data": {
            "text/plain": [
              "['Absolutely love this watch! Get compliments almost every time I wear it. Dainty.',\n",
              " 'I love this watch it keeps time wonderfully.',\n",
              " 'Scratches',\n",
              " 'It works well on me. However, I found cheaper prices in other places after making the purchase',\n",
              " \"Beautiful watch face.  The band looks nice all around.  The links do make that squeaky cheapo noise when you swing it back and forth on your wrist which can be embarrassing in front of watch enthusiasts.  However, to the naked eye from afar, you can't tell the links are cheap or folded because it is well polished and brushed and the folds are pretty tight for the most part.<br /><br />I love the new member of my collection and it looks great.  I've had it for about a week and so far it has kept good time despite day 1 which is typical of a new mechanical watch\"]"
            ]
          },
          "metadata": {},
          "execution_count": 9
        }
      ]
    },
    {
      "cell_type": "markdown",
      "source": [
        "## Part 2: Tokenizing and Stemming"
      ],
      "metadata": {
        "id": "iU279CiSUpcp"
      }
    },
    {
      "cell_type": "code",
      "source": [
        "# Use nltk's English stopwords.\n",
        "stopwords = nltk.corpus.stopwords.words('english')\n",
        "stopwords.append(\"n't\")\n",
        "stopwords.append(\"'s\")\n",
        "stopwords.append(\"'m\")\n",
        "stopwords.append(\"br\")\n",
        "stopwords.append(\"watch\")\n",
        "\n",
        "print (\"We use \" + str(len(stopwords)) + \" stop-words from nltk library.\")\n",
        "print (stopwords[:5])"
      ],
      "metadata": {
        "colab": {
          "base_uri": "https://localhost:8080/"
        },
        "id": "lMZAgJInavSy",
        "outputId": "545fed45-4be2-4184-97eb-b395a37e5f54"
      },
      "execution_count": 10,
      "outputs": [
        {
          "output_type": "stream",
          "name": "stdout",
          "text": [
            "We use 184 stop-words from nltk library.\n",
            "['i', 'me', 'my', 'myself', 'we']\n"
          ]
        }
      ]
    },
    {
      "cell_type": "code",
      "source": [
        "from nltk.stem.snowball import SnowballStemmer\n",
        "\n",
        "stemmer = SnowballStemmer(\"english\")\n",
        "\n",
        "def tokenization_and_stemming(text):\n",
        "\n",
        "    # tokwnize the document into words and get rid of stop words and the non-letters\n",
        "    words = [w for w in nltk.word_tokenize(text) if w.lower() not in stopwords and w.isalpha()]\n",
        "\n",
        "    # stemming\n",
        "    stems = [stemmer.stem(t) for t in words]\n",
        "    return stems"
      ],
      "metadata": {
        "id": "zE_GHlwKavNz"
      },
      "execution_count": 11,
      "outputs": []
    },
    {
      "cell_type": "markdown",
      "source": [
        "## Part 3: TF-IDF\n",
        "\n"
      ],
      "metadata": {
        "id": "grOg9xovUpaY"
      }
    },
    {
      "cell_type": "code",
      "source": [
        "from sklearn.feature_extraction.text import TfidfVectorizer\n",
        "\n",
        "vectorizer = TfidfVectorizer(max_df=0.995, \n",
        "                              max_features=1000,\n",
        "                              min_df=0.01, \n",
        "                              stop_words='english',\n",
        "                              use_idf=True, \n",
        "                              tokenizer=tokenization_and_stemming, \n",
        "                              ngram_range=(1,1))\n",
        "\n",
        "tfidf_matrix = vectorizer.fit_transform(data) # Get matrix with tfidf model (vectorizer)\n",
        "\n",
        "print(tfidf_matrix.shape)"
      ],
      "metadata": {
        "id": "S74YE3uJav7r",
        "colab": {
          "base_uri": "https://localhost:8080/"
        },
        "outputId": "f9f0de91-8ec1-4b39-aec9-0135c5cd0349"
      },
      "execution_count": 12,
      "outputs": [
        {
          "output_type": "stream",
          "name": "stderr",
          "text": [
            "/usr/local/lib/python3.7/dist-packages/sklearn/feature_extraction/text.py:401: UserWarning: Your stop_words may be inconsistent with your preprocessing. Tokenizing the stop words generated tokens ['afterward', 'alon', 'alreadi', 'alway', 'anoth', 'anyon', 'anyth', 'anywher', 'becam', 'becom', 'besid', 'cri', 'describ', 'els', 'elsewher', 'empti', 'everi', 'everyon', 'everyth', 'everywher', 'fifti', 'forti', 'henc', 'hereaft', 'herebi', 'howev', 'hundr', 'inde', 'mani', 'meanwhil', 'moreov', 'nobodi', 'noon', 'noth', 'nowher', 'otherwis', 'perhap', 'pleas', 'sever', 'sinc', 'sincer', 'sixti', 'someon', 'someth', 'sometim', 'somewher', 'thenc', 'thereaft', 'therebi', 'therefor', 'togeth', 'twelv', 'twenti', 'whatev', 'whenc', 'whenev', 'wherea', 'whereaft', 'wherebi', 'wherev'] not in stop_words.\n",
            "  % sorted(inconsistent)\n"
          ]
        },
        {
          "output_type": "stream",
          "name": "stdout",
          "text": [
            "(1000, 239)\n"
          ]
        }
      ]
    },
    {
      "cell_type": "code",
      "source": [
        "tfidf_matrix"
      ],
      "metadata": {
        "id": "RPlomTW8av5R",
        "colab": {
          "base_uri": "https://localhost:8080/"
        },
        "outputId": "b24f40f7-3866-4710-df7c-7bac288788c5"
      },
      "execution_count": null,
      "outputs": [
        {
          "output_type": "execute_result",
          "data": {
            "text/plain": [
              "<1000x239 sparse matrix of type '<class 'numpy.float64'>'\n",
              "\twith 6891 stored elements in Compressed Sparse Row format>"
            ]
          },
          "metadata": {},
          "execution_count": 13
        }
      ]
    },
    {
      "cell_type": "markdown",
      "source": [
        "## Part 4: K-means Clustering"
      ],
      "metadata": {
        "id": "G60Gb8AAUpX8"
      }
    },
    {
      "cell_type": "code",
      "source": [
        "# k-means clustering\n",
        "from sklearn.cluster import KMeans\n",
        "\n",
        "num_clusters = 5\n",
        "\n",
        "km_model = KMeans(n_clusters=num_clusters, init = \"k-means++\")\n",
        "km_model.fit(tfidf_matrix)"
      ],
      "metadata": {
        "id": "v9_iO0NMawYX",
        "colab": {
          "base_uri": "https://localhost:8080/"
        },
        "outputId": "2533626e-74b7-4788-b261-7bef5ffba3b3"
      },
      "execution_count": 13,
      "outputs": [
        {
          "output_type": "execute_result",
          "data": {
            "text/plain": [
              "KMeans(n_clusters=5)"
            ]
          },
          "metadata": {},
          "execution_count": 13
        }
      ]
    },
    {
      "cell_type": "code",
      "source": [
        "# get clusters labels\n",
        "clusters = km_model.labels_.tolist()"
      ],
      "metadata": {
        "id": "lndEQC15awWU"
      },
      "execution_count": 14,
      "outputs": []
    },
    {
      "cell_type": "code",
      "source": [
        "# center for each cluster, tfidf value indicates the importances of the words to the cluster\n",
        "km_model.cluster_centers_"
      ],
      "metadata": {
        "colab": {
          "base_uri": "https://localhost:8080/"
        },
        "id": "wq0JxF7EXSoP",
        "outputId": "dde4656f-7321-4787-9ac3-bbf409ca7139"
      },
      "execution_count": 15,
      "outputs": [
        {
          "output_type": "execute_result",
          "data": {
            "text/plain": [
              "array([[0.0037499 , 0.        , 0.        , ..., 0.00259154, 0.        ,\n",
              "        0.01800249],\n",
              "       [0.00566492, 0.0043783 , 0.00383447, ..., 0.00654088, 0.01803735,\n",
              "        0.01442134],\n",
              "       [0.        , 0.04201663, 0.        , ..., 0.01244583, 0.01749062,\n",
              "        0.00407598],\n",
              "       [0.        , 0.        , 0.        , ..., 0.        , 0.00851693,\n",
              "        0.        ],\n",
              "       [0.        , 0.        , 0.        , ..., 0.        , 0.00784247,\n",
              "        0.        ]])"
            ]
          },
          "metadata": {},
          "execution_count": 15
        }
      ]
    },
    {
      "cell_type": "markdown",
      "source": [
        "### Find keywords for each review"
      ],
      "metadata": {
        "id": "jd4ShohLgqRn"
      }
    },
    {
      "cell_type": "code",
      "source": [
        "# transform matrix from sparse matrix to a list\n",
        "dense = tfidf_matrix.todense()\n",
        "dense_list = dense.tolist()"
      ],
      "metadata": {
        "id": "rKvFu56YXs5n"
      },
      "execution_count": 16,
      "outputs": []
    },
    {
      "cell_type": "code",
      "source": [
        "terms = vectorizer.get_feature_names() # get feature names (words name)"
      ],
      "metadata": {
        "colab": {
          "base_uri": "https://localhost:8080/"
        },
        "id": "Z1oyyyh3eEMs",
        "outputId": "0f5937d9-89ee-40f0-f0e4-c90a7606ab2f"
      },
      "execution_count": 17,
      "outputs": [
        {
          "output_type": "stream",
          "name": "stderr",
          "text": [
            "/usr/local/lib/python3.7/dist-packages/sklearn/utils/deprecation.py:87: FutureWarning: Function get_feature_names is deprecated; get_feature_names is deprecated in 1.0 and will be removed in 1.2. Please use get_feature_names_out instead.\n",
            "  warnings.warn(msg, category=FutureWarning)\n"
          ]
        }
      ]
    },
    {
      "cell_type": "code",
      "source": [
        "# find keywords (those with tfidf value > 0) in each review\n",
        "all_keywords = []\n",
        "\n",
        "for description in dense_list:\n",
        "  x = 0\n",
        "  keywords = []\n",
        "  for word in description:\n",
        "    if word > 0:\n",
        "      keywords.append(terms[x])\n",
        "    x += 1\n",
        "  all_keywords.append(keywords)"
      ],
      "metadata": {
        "id": "7SY1UYDTYX-3"
      },
      "execution_count": 18,
      "outputs": []
    },
    {
      "cell_type": "code",
      "source": [
        "len(all_keywords)"
      ],
      "metadata": {
        "colab": {
          "base_uri": "https://localhost:8080/"
        },
        "id": "-RsmQW2-YX8a",
        "outputId": "8532b166-8335-4663-cb9f-878663d5b2fb"
      },
      "execution_count": 19,
      "outputs": [
        {
          "output_type": "execute_result",
          "data": {
            "text/plain": [
              "1000"
            ]
          },
          "metadata": {},
          "execution_count": 19
        }
      ]
    },
    {
      "cell_type": "code",
      "source": [
        "print(data[0])\n",
        "print(all_keywords[0])"
      ],
      "metadata": {
        "colab": {
          "base_uri": "https://localhost:8080/"
        },
        "id": "Tr-NYxggcOir",
        "outputId": "a061bdee-a1c9-4ab0-a03c-aca93612a470"
      },
      "execution_count": 20,
      "outputs": [
        {
          "output_type": "stream",
          "name": "stdout",
          "text": [
            "Absolutely love this watch! Get compliments almost every time I wear it. Dainty.\n",
            "['absolut', 'compliment', 'everi', 'love', 'time', 'wear']\n"
          ]
        }
      ]
    },
    {
      "cell_type": "markdown",
      "source": [
        "### Find keywords for each cluster"
      ],
      "metadata": {
        "id": "bKYu9JoZggAC"
      }
    },
    {
      "cell_type": "code",
      "source": [
        "# create DataFrame films from all of the input files.\n",
        "review_df = { 'review': df[:1000].review_body, 'cluster': clusters}\n",
        "review_df = pd.DataFrame(review_df, columns = ['review', 'cluster'])"
      ],
      "metadata": {
        "id": "Hj40SNm1dXnL"
      },
      "execution_count": 21,
      "outputs": []
    },
    {
      "cell_type": "code",
      "source": [
        "review_df.head()"
      ],
      "metadata": {
        "colab": {
          "base_uri": "https://localhost:8080/",
          "height": 206
        },
        "id": "PzTjUwkCd2Hz",
        "outputId": "8dcff33b-2e62-4668-8d89-3dd4cfcea19b"
      },
      "execution_count": 22,
      "outputs": [
        {
          "output_type": "execute_result",
          "data": {
            "text/plain": [
              "                                              review  cluster\n",
              "0  Absolutely love this watch! Get compliments al...        2\n",
              "1       I love this watch it keeps time wonderfully.        2\n",
              "2                                          Scratches        1\n",
              "3  It works well on me. However, I found cheaper ...        1\n",
              "4  Beautiful watch face.  The band looks nice all...        1"
            ],
            "text/html": [
              "\n",
              "  <div id=\"df-f9b055f0-f3c1-4247-91a2-6cd616bd311c\">\n",
              "    <div class=\"colab-df-container\">\n",
              "      <div>\n",
              "<style scoped>\n",
              "    .dataframe tbody tr th:only-of-type {\n",
              "        vertical-align: middle;\n",
              "    }\n",
              "\n",
              "    .dataframe tbody tr th {\n",
              "        vertical-align: top;\n",
              "    }\n",
              "\n",
              "    .dataframe thead th {\n",
              "        text-align: right;\n",
              "    }\n",
              "</style>\n",
              "<table border=\"1\" class=\"dataframe\">\n",
              "  <thead>\n",
              "    <tr style=\"text-align: right;\">\n",
              "      <th></th>\n",
              "      <th>review</th>\n",
              "      <th>cluster</th>\n",
              "    </tr>\n",
              "  </thead>\n",
              "  <tbody>\n",
              "    <tr>\n",
              "      <th>0</th>\n",
              "      <td>Absolutely love this watch! Get compliments al...</td>\n",
              "      <td>2</td>\n",
              "    </tr>\n",
              "    <tr>\n",
              "      <th>1</th>\n",
              "      <td>I love this watch it keeps time wonderfully.</td>\n",
              "      <td>2</td>\n",
              "    </tr>\n",
              "    <tr>\n",
              "      <th>2</th>\n",
              "      <td>Scratches</td>\n",
              "      <td>1</td>\n",
              "    </tr>\n",
              "    <tr>\n",
              "      <th>3</th>\n",
              "      <td>It works well on me. However, I found cheaper ...</td>\n",
              "      <td>1</td>\n",
              "    </tr>\n",
              "    <tr>\n",
              "      <th>4</th>\n",
              "      <td>Beautiful watch face.  The band looks nice all...</td>\n",
              "      <td>1</td>\n",
              "    </tr>\n",
              "  </tbody>\n",
              "</table>\n",
              "</div>\n",
              "      <button class=\"colab-df-convert\" onclick=\"convertToInteractive('df-f9b055f0-f3c1-4247-91a2-6cd616bd311c')\"\n",
              "              title=\"Convert this dataframe to an interactive table.\"\n",
              "              style=\"display:none;\">\n",
              "        \n",
              "  <svg xmlns=\"http://www.w3.org/2000/svg\" height=\"24px\"viewBox=\"0 0 24 24\"\n",
              "       width=\"24px\">\n",
              "    <path d=\"M0 0h24v24H0V0z\" fill=\"none\"/>\n",
              "    <path d=\"M18.56 5.44l.94 2.06.94-2.06 2.06-.94-2.06-.94-.94-2.06-.94 2.06-2.06.94zm-11 1L8.5 8.5l.94-2.06 2.06-.94-2.06-.94L8.5 2.5l-.94 2.06-2.06.94zm10 10l.94 2.06.94-2.06 2.06-.94-2.06-.94-.94-2.06-.94 2.06-2.06.94z\"/><path d=\"M17.41 7.96l-1.37-1.37c-.4-.4-.92-.59-1.43-.59-.52 0-1.04.2-1.43.59L10.3 9.45l-7.72 7.72c-.78.78-.78 2.05 0 2.83L4 21.41c.39.39.9.59 1.41.59.51 0 1.02-.2 1.41-.59l7.78-7.78 2.81-2.81c.8-.78.8-2.07 0-2.86zM5.41 20L4 18.59l7.72-7.72 1.47 1.35L5.41 20z\"/>\n",
              "  </svg>\n",
              "      </button>\n",
              "      \n",
              "  <style>\n",
              "    .colab-df-container {\n",
              "      display:flex;\n",
              "      flex-wrap:wrap;\n",
              "      gap: 12px;\n",
              "    }\n",
              "\n",
              "    .colab-df-convert {\n",
              "      background-color: #E8F0FE;\n",
              "      border: none;\n",
              "      border-radius: 50%;\n",
              "      cursor: pointer;\n",
              "      display: none;\n",
              "      fill: #1967D2;\n",
              "      height: 32px;\n",
              "      padding: 0 0 0 0;\n",
              "      width: 32px;\n",
              "    }\n",
              "\n",
              "    .colab-df-convert:hover {\n",
              "      background-color: #E2EBFA;\n",
              "      box-shadow: 0px 1px 2px rgba(60, 64, 67, 0.3), 0px 1px 3px 1px rgba(60, 64, 67, 0.15);\n",
              "      fill: #174EA6;\n",
              "    }\n",
              "\n",
              "    [theme=dark] .colab-df-convert {\n",
              "      background-color: #3B4455;\n",
              "      fill: #D2E3FC;\n",
              "    }\n",
              "\n",
              "    [theme=dark] .colab-df-convert:hover {\n",
              "      background-color: #434B5C;\n",
              "      box-shadow: 0px 1px 3px 1px rgba(0, 0, 0, 0.15);\n",
              "      filter: drop-shadow(0px 1px 2px rgba(0, 0, 0, 0.3));\n",
              "      fill: #FFFFFF;\n",
              "    }\n",
              "  </style>\n",
              "\n",
              "      <script>\n",
              "        const buttonEl =\n",
              "          document.querySelector('#df-f9b055f0-f3c1-4247-91a2-6cd616bd311c button.colab-df-convert');\n",
              "        buttonEl.style.display =\n",
              "          google.colab.kernel.accessAllowed ? 'block' : 'none';\n",
              "\n",
              "        async function convertToInteractive(key) {\n",
              "          const element = document.querySelector('#df-f9b055f0-f3c1-4247-91a2-6cd616bd311c');\n",
              "          const dataTable =\n",
              "            await google.colab.kernel.invokeFunction('convertToInteractive',\n",
              "                                                     [key], {});\n",
              "          if (!dataTable) return;\n",
              "\n",
              "          const docLinkHtml = 'Like what you see? Visit the ' +\n",
              "            '<a target=\"_blank\" href=https://colab.research.google.com/notebooks/data_table.ipynb>data table notebook</a>'\n",
              "            + ' to learn more about interactive tables.';\n",
              "          element.innerHTML = '';\n",
              "          dataTable['output_type'] = 'display_data';\n",
              "          await google.colab.output.renderOutput(dataTable, element);\n",
              "          const docLink = document.createElement('div');\n",
              "          docLink.innerHTML = docLinkHtml;\n",
              "          element.appendChild(docLink);\n",
              "        }\n",
              "      </script>\n",
              "    </div>\n",
              "  </div>\n",
              "  "
            ]
          },
          "metadata": {},
          "execution_count": 22
        }
      ]
    },
    {
      "cell_type": "code",
      "source": [
        "review_df['cluster'].value_counts().plot.bar()"
      ],
      "metadata": {
        "colab": {
          "base_uri": "https://localhost:8080/",
          "height": 279
        },
        "id": "TWNJvOFHd2Fr",
        "outputId": "ac2ceeaf-44f9-46a7-c193-a10fee95d952"
      },
      "execution_count": 23,
      "outputs": [
        {
          "output_type": "execute_result",
          "data": {
            "text/plain": [
              "<matplotlib.axes._subplots.AxesSubplot at 0x7fa7d2ddb610>"
            ]
          },
          "metadata": {},
          "execution_count": 23
        },
        {
          "output_type": "display_data",
          "data": {
            "text/plain": [
              "<Figure size 432x288 with 1 Axes>"
            ],
            "image/png": "[encoded data removed]"
          },
          "metadata": {
            "needs_background": "light"
          }
        }
      ]
    },
    {
      "cell_type": "code",
      "source": [
        "Cluster_keywords = {}\n",
        "\n",
        "order_centroids = km_model.cluster_centers_.argsort()[:, ::-1]  # sort index by cluster_centers from large to small value\n",
        "\n",
        "num_keywords = 6\n",
        "\n",
        "# find keywords for each topic\n",
        "for i in range(num_clusters):\n",
        "    Cluster_keywords[i] = []\n",
        "    for ind in order_centroids[i, :num_keywords]:      # find num_keywords in the cluster_centers (a high dimensional point)\n",
        "        Cluster_keywords[i].append(terms[ind])"
      ],
      "metadata": {
        "id": "7ToenJvwXfjk"
      },
      "execution_count": 24,
      "outputs": []
    },
    {
      "cell_type": "code",
      "source": [
        "Cluster_keywords"
      ],
      "metadata": {
        "colab": {
          "base_uri": "https://localhost:8080/"
        },
        "id": "chwsq5DTjrRl",
        "outputId": "fc77189d-3b87-4b31-ceb1-641cd05a3992"
      },
      "execution_count": 25,
      "outputs": [
        {
          "output_type": "execute_result",
          "data": {
            "text/plain": [
              "{0: ['great', 'look', 'price', 'work', 'product', 'love'],\n",
              " 1: ['look', 'like', 'work', 'band', 'time', 'beauti'],\n",
              " 2: ['love', 'wife', 'look', 'husband', 'beauti', 'absolut'],\n",
              " 3: ['good', 'product', 'qualiti', 'seller', 'price', 'love'],\n",
              " 4: ['nice', 'price', 'look', 'realli', 'simpl', 'good']}"
            ]
          },
          "metadata": {},
          "execution_count": 25
        }
      ]
    },
    {
      "cell_type": "code",
      "source": [
        "# see the reviews that are associated with the clusters\n",
        "for i in range(num_clusters):\n",
        "  print(\"Cluster \" + str(i) + \":\")\n",
        "  print(review_df.loc[review_df.cluster == i, \"review\"])\n",
        "  print(\"\\n\")"
      ],
      "metadata": {
        "colab": {
          "base_uri": "https://localhost:8080/"
        },
        "id": "vtRwgxx7KD90",
        "outputId": "396a43f9-dd12-487f-dc38-b12077f20854"
      },
      "execution_count": 26,
      "outputs": [
        {
          "output_type": "stream",
          "name": "stdout",
          "text": [
            "Cluster 0:\n",
            "6      for my wife and she loved it, looks great and ...\n",
            "8      Watch is perfect. Rugged with the metal &#34;B...\n",
            "28     Perfect Condition, Arrived on Time,Works & Loo...\n",
            "71                            great looking sports watch\n",
            "86     A great automatic, but I give it 4 stars for b...\n",
            "                             ...                        \n",
            "945            Have used it several times.  Works great!\n",
            "965    This is truly a magnificent watch.. it's a qua...\n",
            "967      Metal feels kinda cheap, but watch looks great.\n",
            "968              Great looking, stylish very comfortable\n",
            "987                                          Great watch\n",
            "Name: review, Length: 86, dtype: object\n",
            "\n",
            "\n",
            "Cluster 1:\n",
            "2                                              Scratches\n",
            "3      It works well on me. However, I found cheaper ...\n",
            "4      Beautiful watch face.  The band looks nice all...\n",
            "7      I was about to buy this thinking it was a Swis...\n",
            "9      Great quality and build.<br />The motors are r...\n",
            "                             ...                        \n",
            "994    Excellent replacement/alternate  watch, consid...\n",
            "995    I'm late getting to the party, but after disco...\n",
            "996                                Wear it all the time!\n",
            "998    Watch is exactly as it is shown in the picture...\n",
            "999    Really large on the arm but that's what I want...\n",
            "Name: review, Length: 666, dtype: object\n",
            "\n",
            "\n",
            "Cluster 2:\n",
            "0      Absolutely love this watch! Get compliments al...\n",
            "1           I love this watch it keeps time wonderfully.\n",
            "5      i love this watch for my purpose, about the pe...\n",
            "35     Love this watch, I just received it yesterday ...\n",
            "43                                 Grand Kids loved this\n",
            "                             ...                        \n",
            "960                                 Beautiful - love it!\n",
            "964    I just loved it.. it's glass so you have to ke...\n",
            "973    Received quickly and will make a lovely Christ...\n",
            "983                             Awesome watch!!! Love it\n",
            "991                         My husband LOVED it😁👍🏽👍🏽👍🏽👍🏽\n",
            "Name: review, Length: 109, dtype: object\n",
            "\n",
            "\n",
            "Cluster 3:\n",
            "31                                             very good\n",
            "55     It's a good value, and a good functional watch...\n",
            "75                                             very good\n",
            "77        Excellent product and seller very good service\n",
            "93                                    Good value product\n",
            "                             ...                        \n",
            "958    I've had itcsbout a month now & like it.  It w...\n",
            "966    Beautiful workmanship.  Chimes have volume con...\n",
            "977                                           Very good!\n",
            "984    Just what was shown and ordered.  Delivery etc...\n",
            "997                                           very good.\n",
            "Name: review, Length: 77, dtype: object\n",
            "\n",
            "\n",
            "Cluster 4:\n",
            "18             Nice watch, on time delivery from seller.\n",
            "26                  It works well with nice simple look.\n",
            "133                                            vary nice\n",
            "143                                  Very nice watch !!!\n",
            "166    nice watch what you see on the picture is what...\n",
            "                             ...                        \n",
            "959    Stamp is incorrect on backside. It is reversed...\n",
            "971                                  Very nice and quiet\n",
            "985    It is a very nice clock with  sweeping second ...\n",
            "989                  a very nice watch for a good price.\n",
            "992                                           very nice!\n",
            "Name: review, Length: 62, dtype: object\n",
            "\n",
            "\n"
          ]
        }
      ]
    },
    {
      "cell_type": "markdown",
      "source": [
        "## Part 5: Topic Modeling - Latent Dirichlet Allocation"
      ],
      "metadata": {
        "id": "S5j20YfyUzop"
      }
    },
    {
      "cell_type": "code",
      "source": [
        "# Use LDA for clustering\n",
        "from sklearn.decomposition import LatentDirichletAllocation\n",
        "\n",
        "# number of topics as prior\n",
        "n_topics = 5 \n",
        "\n",
        "lda = LatentDirichletAllocation(n_components = n_topics)"
      ],
      "metadata": {
        "id": "DehcCX8-a4vw"
      },
      "execution_count": 123,
      "outputs": []
    },
    {
      "cell_type": "code",
      "source": [
        "# document-topic matrix\n",
        "documents_topics_matrix = lda.fit_transform(tfidf_matrix)\n",
        "\n",
        "print(documents_topics_matrix.shape) # 1000 documents, 5 topics\n",
        "print(documents_topics_matrix)"
      ],
      "metadata": {
        "id": "27x06C42a4t6",
        "colab": {
          "base_uri": "https://localhost:8080/"
        },
        "outputId": "dff6d700-03ab-42b0-b056-3f46038ef274"
      },
      "execution_count": 124,
      "outputs": [
        {
          "output_type": "stream",
          "name": "stdout",
          "text": [
            "(1000, 5)\n",
            "[[0.43472319 0.06114825 0.06186087 0.38212521 0.06014249]\n",
            " [0.65705155 0.08501999 0.08480206 0.08603513 0.08709128]\n",
            " [0.2        0.2        0.2        0.2        0.2       ]\n",
            " ...\n",
            " [0.100048   0.59991105 0.10000012 0.1000001  0.10004073]\n",
            " [0.72286202 0.07261981 0.06786079 0.06731978 0.06933761]\n",
            " [0.06741121 0.0678295  0.06738155 0.07014028 0.72723745]]\n"
          ]
        }
      ]
    },
    {
      "cell_type": "code",
      "source": [
        "# topics-words matrix\n",
        "topics_words_matrix = lda.components_\n",
        "\n",
        "print(topics_words_matrix.shape) # 5 topics, 239 words features\n",
        "print(topics_words_matrix)"
      ],
      "metadata": {
        "id": "_Z9T2E6ja4rj",
        "colab": {
          "base_uri": "https://localhost:8080/"
        },
        "outputId": "1c119205-f619-486b-c313-b8fbc81122b8"
      },
      "execution_count": 125,
      "outputs": [
        {
          "output_type": "stream",
          "name": "stdout",
          "text": [
            "(5, 239)\n",
            "[[ 3.30287453  0.20201627  0.88903939 ...  2.29999329  0.20067567\n",
            "   2.28213627]\n",
            " [ 0.20186436  0.55279408  0.20034685 ...  4.02384497  0.96125319\n",
            "   0.76479746]\n",
            " [ 0.20147414  4.5306668   0.20129852 ...  0.20533907  0.20211491\n",
            "   2.6361439 ]\n",
            " [ 1.17801161  3.00918036  1.53577871 ...  0.20264507  0.39341299\n",
            "   4.1241629 ]\n",
            " [ 0.21110243  0.20110531  0.72729161 ...  0.20387491 14.30393104\n",
            "   2.78986492]]\n"
          ]
        }
      ]
    },
    {
      "cell_type": "markdown",
      "source": [
        "### Document-Topics Level Analysis"
      ],
      "metadata": {
        "id": "gMKRBql-q8SN"
      }
    },
    {
      "cell_type": "code",
      "source": [
        "# make a document-topics dataframe\n",
        "# row names\n",
        "doc_names = [\"Document\" + str(i) for i in range(len(documents_topics_matrix))]\n",
        "# columns names\n",
        "topics_names = [\"Topics\" + str(i) for i in range(n_topics)]\n",
        "\n",
        "documents_topics_df = pd.DataFrame(documents_topics_matrix, index = doc_names, columns = topics_names)"
      ],
      "metadata": {
        "id": "BFZ2xQ-6n0_3"
      },
      "execution_count": 126,
      "outputs": []
    },
    {
      "cell_type": "code",
      "source": [
        "# get major topics within each document\n",
        "topic = np.argmax(documents_topics_df.values, axis=1)\n",
        "documents_topics_df['topic'] = topic"
      ],
      "metadata": {
        "id": "TBDiCQNBphS5"
      },
      "execution_count": 127,
      "outputs": []
    },
    {
      "cell_type": "code",
      "source": [
        "documents_topics_df.head()"
      ],
      "metadata": {
        "colab": {
          "base_uri": "https://localhost:8080/",
          "height": 206
        },
        "id": "cYrVbfRgp3UJ",
        "outputId": "2ab677f5-7cf9-4c1c-8c41-5c4256609cc8"
      },
      "execution_count": 128,
      "outputs": [
        {
          "output_type": "execute_result",
          "data": {
            "text/plain": [
              "            Topics0   Topics1   Topics2   Topics3   Topics4  topic\n",
              "Document0  0.434723  0.061148  0.061861  0.382125  0.060142      0\n",
              "Document1  0.657052  0.085020  0.084802  0.086035  0.087091      0\n",
              "Document2  0.200000  0.200000  0.200000  0.200000  0.200000      0\n",
              "Document3  0.062731  0.058934  0.062728  0.059697  0.755910      4\n",
              "Document4  0.040212  0.041233  0.039448  0.045469  0.833639      4"
            ],
            "text/html": [
              "\n",
              "  <div id=\"df-a7f2ce3d-f24e-492e-a0b2-30b589fdcfcc\">\n",
              "    <div class=\"colab-df-container\">\n",
              "      <div>\n",
              "<style scoped>\n",
              "    .dataframe tbody tr th:only-of-type {\n",
              "        vertical-align: middle;\n",
              "    }\n",
              "\n",
              "    .dataframe tbody tr th {\n",
              "        vertical-align: top;\n",
              "    }\n",
              "\n",
              "    .dataframe thead th {\n",
              "        text-align: right;\n",
              "    }\n",
              "</style>\n",
              "<table border=\"1\" class=\"dataframe\">\n",
              "  <thead>\n",
              "    <tr style=\"text-align: right;\">\n",
              "      <th></th>\n",
              "      <th>Topics0</th>\n",
              "      <th>Topics1</th>\n",
              "      <th>Topics2</th>\n",
              "      <th>Topics3</th>\n",
              "      <th>Topics4</th>\n",
              "      <th>topic</th>\n",
              "    </tr>\n",
              "  </thead>\n",
              "  <tbody>\n",
              "    <tr>\n",
              "      <th>Document0</th>\n",
              "      <td>0.434723</td>\n",
              "      <td>0.061148</td>\n",
              "      <td>0.061861</td>\n",
              "      <td>0.382125</td>\n",
              "      <td>0.060142</td>\n",
              "      <td>0</td>\n",
              "    </tr>\n",
              "    <tr>\n",
              "      <th>Document1</th>\n",
              "      <td>0.657052</td>\n",
              "      <td>0.085020</td>\n",
              "      <td>0.084802</td>\n",
              "      <td>0.086035</td>\n",
              "      <td>0.087091</td>\n",
              "      <td>0</td>\n",
              "    </tr>\n",
              "    <tr>\n",
              "      <th>Document2</th>\n",
              "      <td>0.200000</td>\n",
              "      <td>0.200000</td>\n",
              "      <td>0.200000</td>\n",
              "      <td>0.200000</td>\n",
              "      <td>0.200000</td>\n",
              "      <td>0</td>\n",
              "    </tr>\n",
              "    <tr>\n",
              "      <th>Document3</th>\n",
              "      <td>0.062731</td>\n",
              "      <td>0.058934</td>\n",
              "      <td>0.062728</td>\n",
              "      <td>0.059697</td>\n",
              "      <td>0.755910</td>\n",
              "      <td>4</td>\n",
              "    </tr>\n",
              "    <tr>\n",
              "      <th>Document4</th>\n",
              "      <td>0.040212</td>\n",
              "      <td>0.041233</td>\n",
              "      <td>0.039448</td>\n",
              "      <td>0.045469</td>\n",
              "      <td>0.833639</td>\n",
              "      <td>4</td>\n",
              "    </tr>\n",
              "  </tbody>\n",
              "</table>\n",
              "</div>\n",
              "      <button class=\"colab-df-convert\" onclick=\"convertToInteractive('df-a7f2ce3d-f24e-492e-a0b2-30b589fdcfcc')\"\n",
              "              title=\"Convert this dataframe to an interactive table.\"\n",
              "              style=\"display:none;\">\n",
              "        \n",
              "  <svg xmlns=\"http://www.w3.org/2000/svg\" height=\"24px\"viewBox=\"0 0 24 24\"\n",
              "       width=\"24px\">\n",
              "    <path d=\"M0 0h24v24H0V0z\" fill=\"none\"/>\n",
              "    <path d=\"M18.56 5.44l.94 2.06.94-2.06 2.06-.94-2.06-.94-.94-2.06-.94 2.06-2.06.94zm-11 1L8.5 8.5l.94-2.06 2.06-.94-2.06-.94L8.5 2.5l-.94 2.06-2.06.94zm10 10l.94 2.06.94-2.06 2.06-.94-2.06-.94-.94-2.06-.94 2.06-2.06.94z\"/><path d=\"M17.41 7.96l-1.37-1.37c-.4-.4-.92-.59-1.43-.59-.52 0-1.04.2-1.43.59L10.3 9.45l-7.72 7.72c-.78.78-.78 2.05 0 2.83L4 21.41c.39.39.9.59 1.41.59.51 0 1.02-.2 1.41-.59l7.78-7.78 2.81-2.81c.8-.78.8-2.07 0-2.86zM5.41 20L4 18.59l7.72-7.72 1.47 1.35L5.41 20z\"/>\n",
              "  </svg>\n",
              "      </button>\n",
              "      \n",
              "  <style>\n",
              "    .colab-df-container {\n",
              "      display:flex;\n",
              "      flex-wrap:wrap;\n",
              "      gap: 12px;\n",
              "    }\n",
              "\n",
              "    .colab-df-convert {\n",
              "      background-color: #E8F0FE;\n",
              "      border: none;\n",
              "      border-radius: 50%;\n",
              "      cursor: pointer;\n",
              "      display: none;\n",
              "      fill: #1967D2;\n",
              "      height: 32px;\n",
              "      padding: 0 0 0 0;\n",
              "      width: 32px;\n",
              "    }\n",
              "\n",
              "    .colab-df-convert:hover {\n",
              "      background-color: #E2EBFA;\n",
              "      box-shadow: 0px 1px 2px rgba(60, 64, 67, 0.3), 0px 1px 3px 1px rgba(60, 64, 67, 0.15);\n",
              "      fill: #174EA6;\n",
              "    }\n",
              "\n",
              "    [theme=dark] .colab-df-convert {\n",
              "      background-color: #3B4455;\n",
              "      fill: #D2E3FC;\n",
              "    }\n",
              "\n",
              "    [theme=dark] .colab-df-convert:hover {\n",
              "      background-color: #434B5C;\n",
              "      box-shadow: 0px 1px 3px 1px rgba(0, 0, 0, 0.15);\n",
              "      filter: drop-shadow(0px 1px 2px rgba(0, 0, 0, 0.3));\n",
              "      fill: #FFFFFF;\n",
              "    }\n",
              "  </style>\n",
              "\n",
              "      <script>\n",
              "        const buttonEl =\n",
              "          document.querySelector('#df-a7f2ce3d-f24e-492e-a0b2-30b589fdcfcc button.colab-df-convert');\n",
              "        buttonEl.style.display =\n",
              "          google.colab.kernel.accessAllowed ? 'block' : 'none';\n",
              "\n",
              "        async function convertToInteractive(key) {\n",
              "          const element = document.querySelector('#df-a7f2ce3d-f24e-492e-a0b2-30b589fdcfcc');\n",
              "          const dataTable =\n",
              "            await google.colab.kernel.invokeFunction('convertToInteractive',\n",
              "                                                     [key], {});\n",
              "          if (!dataTable) return;\n",
              "\n",
              "          const docLinkHtml = 'Like what you see? Visit the ' +\n",
              "            '<a target=\"_blank\" href=https://colab.research.google.com/notebooks/data_table.ipynb>data table notebook</a>'\n",
              "            + ' to learn more about interactive tables.';\n",
              "          element.innerHTML = '';\n",
              "          dataTable['output_type'] = 'display_data';\n",
              "          await google.colab.output.renderOutput(dataTable, element);\n",
              "          const docLink = document.createElement('div');\n",
              "          docLink.innerHTML = docLinkHtml;\n",
              "          element.appendChild(docLink);\n",
              "        }\n",
              "      </script>\n",
              "    </div>\n",
              "  </div>\n",
              "  "
            ]
          },
          "metadata": {},
          "execution_count": 128
        }
      ]
    },
    {
      "cell_type": "code",
      "source": [
        "documents_topics_df['topic'].value_counts().plot.bar(title = \"Distributions of Topics Across 1000 Documents\")"
      ],
      "metadata": {
        "colab": {
          "base_uri": "https://localhost:8080/",
          "height": 295
        },
        "id": "c2raUMfPp9-v",
        "outputId": "91aae5a0-a8d3-4fde-a5e9-6a46aa718d30"
      },
      "execution_count": 129,
      "outputs": [
        {
          "output_type": "execute_result",
          "data": {
            "text/plain": [
              "<matplotlib.axes._subplots.AxesSubplot at 0x7fa7cf224c10>"
            ]
          },
          "metadata": {},
          "execution_count": 129
        },
        {
          "output_type": "display_data",
          "data": {
            "text/plain": [
              "<Figure size 432x288 with 1 Axes>"
            ],
            "image/png": "[encoded data removed]"
          },
          "metadata": {
            "needs_background": "light"
          }
        }
      ]
    },
    {
      "cell_type": "markdown",
      "source": [
        "### Topics-Words Level Analysis"
      ],
      "metadata": {
        "id": "3hW8dgU-rboV"
      }
    },
    {
      "cell_type": "code",
      "source": [
        "# make topics-words dataframe\n",
        "# column names (words names)\n",
        "# row names (topics names)\n",
        "\n",
        "topics_words_df = pd.DataFrame(lda.components_, index = topics_names, columns = vectorizer.get_feature_names_out())"
      ],
      "metadata": {
        "id": "tI_cj1V4rkCa"
      },
      "execution_count": 130,
      "outputs": []
    },
    {
      "cell_type": "code",
      "source": [
        "topics_words_df.head()"
      ],
      "metadata": {
        "colab": {
          "base_uri": "https://localhost:8080/",
          "height": 299
        },
        "id": "_uRqnqdCp98e",
        "outputId": "bded86e7-8fdb-4b6f-d525-1868386fa467"
      },
      "execution_count": 131,
      "outputs": [
        {
          "output_type": "execute_result",
          "data": {
            "text/plain": [
              "              abl   absolut     accur    actual    adjust     alarm   alreadi  \\\n",
              "Topics0  3.302875  0.202016  0.889039  0.201779  0.200307  0.200123  0.211366   \n",
              "Topics1  0.201864  0.552794  0.200347  0.200116  0.200117  0.200247  0.684577   \n",
              "Topics2  0.201474  4.530667  0.201299  0.200547  0.491549  3.039136  1.290174   \n",
              "Topics3  1.178012  3.009180  1.535779  3.609286  0.204595  2.148057  0.202598   \n",
              "Topics4  0.211102  0.201105  0.727292  1.644669  5.196602  0.352849  3.374655   \n",
              "\n",
              "            alway      amaz    amazon  ...    weight      went       wife  \\\n",
              "Topics0  1.783946  7.004980  0.204479  ...  1.885767  0.206626   0.200901   \n",
              "Topics1  0.200689  0.200165  0.201428  ...  0.202506  0.200340   0.202858   \n",
              "Topics2  0.202849  0.651764  4.474232  ...  0.200195  1.005365   0.200955   \n",
              "Topics3  1.044586  2.709882  1.710483  ...  0.204130  1.479882  11.836799   \n",
              "Topics4  1.607932  0.202044  0.211919  ...  3.225764  0.824961   0.200884   \n",
              "\n",
              "             wind      wish       work      worn     worth      wrist  \\\n",
              "Topics0  0.849769  1.010869   4.538633  0.200318  2.299993   0.200676   \n",
              "Topics1  1.794492  0.200741   1.978873  0.200151  4.023845   0.961253   \n",
              "Topics2  0.205186  0.203767  28.551887  0.232505  0.205339   0.202115   \n",
              "Topics3  0.217072  2.369023   0.671958  3.324142  0.202645   0.393413   \n",
              "Topics4  1.167190  0.786109   5.320318  0.245977  0.203875  14.303931   \n",
              "\n",
              "             year  \n",
              "Topics0  2.282136  \n",
              "Topics1  0.764797  \n",
              "Topics2  2.636144  \n",
              "Topics3  4.124163  \n",
              "Topics4  2.789865  \n",
              "\n",
              "[5 rows x 239 columns]"
            ],
            "text/html": [
              "\n",
              "  <div id=\"df-60e10ce6-1582-40d6-a4be-5364597955c5\">\n",
              "    <div class=\"colab-df-container\">\n",
              "      <div>\n",
              "<style scoped>\n",
              "    .dataframe tbody tr th:only-of-type {\n",
              "        vertical-align: middle;\n",
              "    }\n",
              "\n",
              "    .dataframe tbody tr th {\n",
              "        vertical-align: top;\n",
              "    }\n",
              "\n",
              "    .dataframe thead th {\n",
              "        text-align: right;\n",
              "    }\n",
              "</style>\n",
              "<table border=\"1\" class=\"dataframe\">\n",
              "  <thead>\n",
              "    <tr style=\"text-align: right;\">\n",
              "      <th></th>\n",
              "      <th>abl</th>\n",
              "      <th>absolut</th>\n",
              "      <th>accur</th>\n",
              "      <th>actual</th>\n",
              "      <th>adjust</th>\n",
              "      <th>alarm</th>\n",
              "      <th>alreadi</th>\n",
              "      <th>alway</th>\n",
              "      <th>amaz</th>\n",
              "      <th>amazon</th>\n",
              "      <th>...</th>\n",
              "      <th>weight</th>\n",
              "      <th>went</th>\n",
              "      <th>wife</th>\n",
              "      <th>wind</th>\n",
              "      <th>wish</th>\n",
              "      <th>work</th>\n",
              "      <th>worn</th>\n",
              "      <th>worth</th>\n",
              "      <th>wrist</th>\n",
              "      <th>year</th>\n",
              "    </tr>\n",
              "  </thead>\n",
              "  <tbody>\n",
              "    <tr>\n",
              "      <th>Topics0</th>\n",
              "      <td>3.302875</td>\n",
              "      <td>0.202016</td>\n",
              "      <td>0.889039</td>\n",
              "      <td>0.201779</td>\n",
              "      <td>0.200307</td>\n",
              "      <td>0.200123</td>\n",
              "      <td>0.211366</td>\n",
              "      <td>1.783946</td>\n",
              "      <td>7.004980</td>\n",
              "      <td>0.204479</td>\n",
              "      <td>...</td>\n",
              "      <td>1.885767</td>\n",
              "      <td>0.206626</td>\n",
              "      <td>0.200901</td>\n",
              "      <td>0.849769</td>\n",
              "      <td>1.010869</td>\n",
              "      <td>4.538633</td>\n",
              "      <td>0.200318</td>\n",
              "      <td>2.299993</td>\n",
              "      <td>0.200676</td>\n",
              "      <td>2.282136</td>\n",
              "    </tr>\n",
              "    <tr>\n",
              "      <th>Topics1</th>\n",
              "      <td>0.201864</td>\n",
              "      <td>0.552794</td>\n",
              "      <td>0.200347</td>\n",
              "      <td>0.200116</td>\n",
              "      <td>0.200117</td>\n",
              "      <td>0.200247</td>\n",
              "      <td>0.684577</td>\n",
              "      <td>0.200689</td>\n",
              "      <td>0.200165</td>\n",
              "      <td>0.201428</td>\n",
              "      <td>...</td>\n",
              "      <td>0.202506</td>\n",
              "      <td>0.200340</td>\n",
              "      <td>0.202858</td>\n",
              "      <td>1.794492</td>\n",
              "      <td>0.200741</td>\n",
              "      <td>1.978873</td>\n",
              "      <td>0.200151</td>\n",
              "      <td>4.023845</td>\n",
              "      <td>0.961253</td>\n",
              "      <td>0.764797</td>\n",
              "    </tr>\n",
              "    <tr>\n",
              "      <th>Topics2</th>\n",
              "      <td>0.201474</td>\n",
              "      <td>4.530667</td>\n",
              "      <td>0.201299</td>\n",
              "      <td>0.200547</td>\n",
              "      <td>0.491549</td>\n",
              "      <td>3.039136</td>\n",
              "      <td>1.290174</td>\n",
              "      <td>0.202849</td>\n",
              "      <td>0.651764</td>\n",
              "      <td>4.474232</td>\n",
              "      <td>...</td>\n",
              "      <td>0.200195</td>\n",
              "      <td>1.005365</td>\n",
              "      <td>0.200955</td>\n",
              "      <td>0.205186</td>\n",
              "      <td>0.203767</td>\n",
              "      <td>28.551887</td>\n",
              "      <td>0.232505</td>\n",
              "      <td>0.205339</td>\n",
              "      <td>0.202115</td>\n",
              "      <td>2.636144</td>\n",
              "    </tr>\n",
              "    <tr>\n",
              "      <th>Topics3</th>\n",
              "      <td>1.178012</td>\n",
              "      <td>3.009180</td>\n",
              "      <td>1.535779</td>\n",
              "      <td>3.609286</td>\n",
              "      <td>0.204595</td>\n",
              "      <td>2.148057</td>\n",
              "      <td>0.202598</td>\n",
              "      <td>1.044586</td>\n",
              "      <td>2.709882</td>\n",
              "      <td>1.710483</td>\n",
              "      <td>...</td>\n",
              "      <td>0.204130</td>\n",
              "      <td>1.479882</td>\n",
              "      <td>11.836799</td>\n",
              "      <td>0.217072</td>\n",
              "      <td>2.369023</td>\n",
              "      <td>0.671958</td>\n",
              "      <td>3.324142</td>\n",
              "      <td>0.202645</td>\n",
              "      <td>0.393413</td>\n",
              "      <td>4.124163</td>\n",
              "    </tr>\n",
              "    <tr>\n",
              "      <th>Topics4</th>\n",
              "      <td>0.211102</td>\n",
              "      <td>0.201105</td>\n",
              "      <td>0.727292</td>\n",
              "      <td>1.644669</td>\n",
              "      <td>5.196602</td>\n",
              "      <td>0.352849</td>\n",
              "      <td>3.374655</td>\n",
              "      <td>1.607932</td>\n",
              "      <td>0.202044</td>\n",
              "      <td>0.211919</td>\n",
              "      <td>...</td>\n",
              "      <td>3.225764</td>\n",
              "      <td>0.824961</td>\n",
              "      <td>0.200884</td>\n",
              "      <td>1.167190</td>\n",
              "      <td>0.786109</td>\n",
              "      <td>5.320318</td>\n",
              "      <td>0.245977</td>\n",
              "      <td>0.203875</td>\n",
              "      <td>14.303931</td>\n",
              "      <td>2.789865</td>\n",
              "    </tr>\n",
              "  </tbody>\n",
              "</table>\n",
              "<p>5 rows × 239 columns</p>\n",
              "</div>\n",
              "      <button class=\"colab-df-convert\" onclick=\"convertToInteractive('df-60e10ce6-1582-40d6-a4be-5364597955c5')\"\n",
              "              title=\"Convert this dataframe to an interactive table.\"\n",
              "              style=\"display:none;\">\n",
              "        \n",
              "  <svg xmlns=\"http://www.w3.org/2000/svg\" height=\"24px\"viewBox=\"0 0 24 24\"\n",
              "       width=\"24px\">\n",
              "    <path d=\"M0 0h24v24H0V0z\" fill=\"none\"/>\n",
              "    <path d=\"M18.56 5.44l.94 2.06.94-2.06 2.06-.94-2.06-.94-.94-2.06-.94 2.06-2.06.94zm-11 1L8.5 8.5l.94-2.06 2.06-.94-2.06-.94L8.5 2.5l-.94 2.06-2.06.94zm10 10l.94 2.06.94-2.06 2.06-.94-2.06-.94-.94-2.06-.94 2.06-2.06.94z\"/><path d=\"M17.41 7.96l-1.37-1.37c-.4-.4-.92-.59-1.43-.59-.52 0-1.04.2-1.43.59L10.3 9.45l-7.72 7.72c-.78.78-.78 2.05 0 2.83L4 21.41c.39.39.9.59 1.41.59.51 0 1.02-.2 1.41-.59l7.78-7.78 2.81-2.81c.8-.78.8-2.07 0-2.86zM5.41 20L4 18.59l7.72-7.72 1.47 1.35L5.41 20z\"/>\n",
              "  </svg>\n",
              "      </button>\n",
              "      \n",
              "  <style>\n",
              "    .colab-df-container {\n",
              "      display:flex;\n",
              "      flex-wrap:wrap;\n",
              "      gap: 12px;\n",
              "    }\n",
              "\n",
              "    .colab-df-convert {\n",
              "      background-color: #E8F0FE;\n",
              "      border: none;\n",
              "      border-radius: 50%;\n",
              "      cursor: pointer;\n",
              "      display: none;\n",
              "      fill: #1967D2;\n",
              "      height: 32px;\n",
              "      padding: 0 0 0 0;\n",
              "      width: 32px;\n",
              "    }\n",
              "\n",
              "    .colab-df-convert:hover {\n",
              "      background-color: #E2EBFA;\n",
              "      box-shadow: 0px 1px 2px rgba(60, 64, 67, 0.3), 0px 1px 3px 1px rgba(60, 64, 67, 0.15);\n",
              "      fill: #174EA6;\n",
              "    }\n",
              "\n",
              "    [theme=dark] .colab-df-convert {\n",
              "      background-color: #3B4455;\n",
              "      fill: #D2E3FC;\n",
              "    }\n",
              "\n",
              "    [theme=dark] .colab-df-convert:hover {\n",
              "      background-color: #434B5C;\n",
              "      box-shadow: 0px 1px 3px 1px rgba(0, 0, 0, 0.15);\n",
              "      filter: drop-shadow(0px 1px 2px rgba(0, 0, 0, 0.3));\n",
              "      fill: #FFFFFF;\n",
              "    }\n",
              "  </style>\n",
              "\n",
              "      <script>\n",
              "        const buttonEl =\n",
              "          document.querySelector('#df-60e10ce6-1582-40d6-a4be-5364597955c5 button.colab-df-convert');\n",
              "        buttonEl.style.display =\n",
              "          google.colab.kernel.accessAllowed ? 'block' : 'none';\n",
              "\n",
              "        async function convertToInteractive(key) {\n",
              "          const element = document.querySelector('#df-60e10ce6-1582-40d6-a4be-5364597955c5');\n",
              "          const dataTable =\n",
              "            await google.colab.kernel.invokeFunction('convertToInteractive',\n",
              "                                                     [key], {});\n",
              "          if (!dataTable) return;\n",
              "\n",
              "          const docLinkHtml = 'Like what you see? Visit the ' +\n",
              "            '<a target=\"_blank\" href=https://colab.research.google.com/notebooks/data_table.ipynb>data table notebook</a>'\n",
              "            + ' to learn more about interactive tables.';\n",
              "          element.innerHTML = '';\n",
              "          dataTable['output_type'] = 'display_data';\n",
              "          await google.colab.output.renderOutput(dataTable, element);\n",
              "          const docLink = document.createElement('div');\n",
              "          docLink.innerHTML = docLinkHtml;\n",
              "          element.appendChild(docLink);\n",
              "        }\n",
              "      </script>\n",
              "    </div>\n",
              "  </div>\n",
              "  "
            ]
          },
          "metadata": {},
          "execution_count": 131
        }
      ]
    },
    {
      "cell_type": "code",
      "source": [
        "# get top n key words for given topic list\n",
        "def get_top_n_keywords(df, n_keywords):\n",
        "  \"\"\"\n",
        "  Takes in a topics-words dataframe\n",
        "  Returns a dataframe with top n keywords for each topic\n",
        "  \"\"\"\n",
        "  res = []\n",
        "  for i in range(df.shape[0]):\n",
        "    res.append(df.iloc[i, :].sort_values(ascending = False)[:n_keywords].index.tolist())\n",
        "  return res"
      ],
      "metadata": {
        "id": "tjur45Vos35I"
      },
      "execution_count": 132,
      "outputs": []
    },
    {
      "cell_type": "code",
      "source": [
        "num_keywords = 10\n",
        "\n",
        "topics_keywords_list = get_top_n_keywords(topics_words_df, n_keywords = num_keywords)\n",
        "\n",
        "# column names\n",
        "col_names = [\"Top_\" + str(i+1) + \"_Word\" for i in range(num_keywords)]\n",
        "\n",
        "topics_keywords_df = pd.DataFrame(topics_keywords_list, columns = col_names, index = topics_names)"
      ],
      "metadata": {
        "id": "1suTx3Z6yU4e"
      },
      "execution_count": 136,
      "outputs": []
    },
    {
      "cell_type": "code",
      "source": [
        "topics_keywords_df.head()"
      ],
      "metadata": {
        "colab": {
          "base_uri": "https://localhost:8080/",
          "height": 206
        },
        "id": "akZjz0SWwsYS",
        "outputId": "6c6b0600-21dd-4932-cd45-1d8d28deaa10"
      },
      "execution_count": 137,
      "outputs": [
        {
          "output_type": "execute_result",
          "data": {
            "text/plain": [
              "        Top_1_Word Top_2_Word Top_3_Word Top_4_Word Top_5_Word Top_6_Word  \\\n",
              "Topics0      great      price    product      excel     beauti       look   \n",
              "Topics1       good       love      thank     better       wear    stylish   \n",
              "Topics2       work        day    batteri      month        use       gift   \n",
              "Topics3    perfect       like     expect       love     awesom       wear   \n",
              "Topics4       nice       love       look       band        big       face   \n",
              "\n",
              "        Top_7_Word Top_8_Word Top_9_Word Top_10_Word  \n",
              "Topics0    qualiti       time       love       exact  \n",
              "Topics1    comfort    qualiti      worth        look  \n",
              "Topics2       fast      broke  recommend         tri  \n",
              "Topics3      color       wife     pretti        want  \n",
              "Topics4      wrist       like       larg      realli  "
            ],
            "text/html": [
              "\n",
              "  <div id=\"df-76985546-536d-41c6-901e-d1eb62a53a3c\">\n",
              "    <div class=\"colab-df-container\">\n",
              "      <div>\n",
              "<style scoped>\n",
              "    .dataframe tbody tr th:only-of-type {\n",
              "        vertical-align: middle;\n",
              "    }\n",
              "\n",
              "    .dataframe tbody tr th {\n",
              "        vertical-align: top;\n",
              "    }\n",
              "\n",
              "    .dataframe thead th {\n",
              "        text-align: right;\n",
              "    }\n",
              "</style>\n",
              "<table border=\"1\" class=\"dataframe\">\n",
              "  <thead>\n",
              "    <tr style=\"text-align: right;\">\n",
              "      <th></th>\n",
              "      <th>Top_1_Word</th>\n",
              "      <th>Top_2_Word</th>\n",
              "      <th>Top_3_Word</th>\n",
              "      <th>Top_4_Word</th>\n",
              "      <th>Top_5_Word</th>\n",
              "      <th>Top_6_Word</th>\n",
              "      <th>Top_7_Word</th>\n",
              "      <th>Top_8_Word</th>\n",
              "      <th>Top_9_Word</th>\n",
              "      <th>Top_10_Word</th>\n",
              "    </tr>\n",
              "  </thead>\n",
              "  <tbody>\n",
              "    <tr>\n",
              "      <th>Topics0</th>\n",
              "      <td>great</td>\n",
              "      <td>price</td>\n",
              "      <td>product</td>\n",
              "      <td>excel</td>\n",
              "      <td>beauti</td>\n",
              "      <td>look</td>\n",
              "      <td>qualiti</td>\n",
              "      <td>time</td>\n",
              "      <td>love</td>\n",
              "      <td>exact</td>\n",
              "    </tr>\n",
              "    <tr>\n",
              "      <th>Topics1</th>\n",
              "      <td>good</td>\n",
              "      <td>love</td>\n",
              "      <td>thank</td>\n",
              "      <td>better</td>\n",
              "      <td>wear</td>\n",
              "      <td>stylish</td>\n",
              "      <td>comfort</td>\n",
              "      <td>qualiti</td>\n",
              "      <td>worth</td>\n",
              "      <td>look</td>\n",
              "    </tr>\n",
              "    <tr>\n",
              "      <th>Topics2</th>\n",
              "      <td>work</td>\n",
              "      <td>day</td>\n",
              "      <td>batteri</td>\n",
              "      <td>month</td>\n",
              "      <td>use</td>\n",
              "      <td>gift</td>\n",
              "      <td>fast</td>\n",
              "      <td>broke</td>\n",
              "      <td>recommend</td>\n",
              "      <td>tri</td>\n",
              "    </tr>\n",
              "    <tr>\n",
              "      <th>Topics3</th>\n",
              "      <td>perfect</td>\n",
              "      <td>like</td>\n",
              "      <td>expect</td>\n",
              "      <td>love</td>\n",
              "      <td>awesom</td>\n",
              "      <td>wear</td>\n",
              "      <td>color</td>\n",
              "      <td>wife</td>\n",
              "      <td>pretti</td>\n",
              "      <td>want</td>\n",
              "    </tr>\n",
              "    <tr>\n",
              "      <th>Topics4</th>\n",
              "      <td>nice</td>\n",
              "      <td>love</td>\n",
              "      <td>look</td>\n",
              "      <td>band</td>\n",
              "      <td>big</td>\n",
              "      <td>face</td>\n",
              "      <td>wrist</td>\n",
              "      <td>like</td>\n",
              "      <td>larg</td>\n",
              "      <td>realli</td>\n",
              "    </tr>\n",
              "  </tbody>\n",
              "</table>\n",
              "</div>\n",
              "      <button class=\"colab-df-convert\" onclick=\"convertToInteractive('df-76985546-536d-41c6-901e-d1eb62a53a3c')\"\n",
              "              title=\"Convert this dataframe to an interactive table.\"\n",
              "              style=\"display:none;\">\n",
              "        \n",
              "  <svg xmlns=\"http://www.w3.org/2000/svg\" height=\"24px\"viewBox=\"0 0 24 24\"\n",
              "       width=\"24px\">\n",
              "    <path d=\"M0 0h24v24H0V0z\" fill=\"none\"/>\n",
              "    <path d=\"M18.56 5.44l.94 2.06.94-2.06 2.06-.94-2.06-.94-.94-2.06-.94 2.06-2.06.94zm-11 1L8.5 8.5l.94-2.06 2.06-.94-2.06-.94L8.5 2.5l-.94 2.06-2.06.94zm10 10l.94 2.06.94-2.06 2.06-.94-2.06-.94-.94-2.06-.94 2.06-2.06.94z\"/><path d=\"M17.41 7.96l-1.37-1.37c-.4-.4-.92-.59-1.43-.59-.52 0-1.04.2-1.43.59L10.3 9.45l-7.72 7.72c-.78.78-.78 2.05 0 2.83L4 21.41c.39.39.9.59 1.41.59.51 0 1.02-.2 1.41-.59l7.78-7.78 2.81-2.81c.8-.78.8-2.07 0-2.86zM5.41 20L4 18.59l7.72-7.72 1.47 1.35L5.41 20z\"/>\n",
              "  </svg>\n",
              "      </button>\n",
              "      \n",
              "  <style>\n",
              "    .colab-df-container {\n",
              "      display:flex;\n",
              "      flex-wrap:wrap;\n",
              "      gap: 12px;\n",
              "    }\n",
              "\n",
              "    .colab-df-convert {\n",
              "      background-color: #E8F0FE;\n",
              "      border: none;\n",
              "      border-radius: 50%;\n",
              "      cursor: pointer;\n",
              "      display: none;\n",
              "      fill: #1967D2;\n",
              "      height: 32px;\n",
              "      padding: 0 0 0 0;\n",
              "      width: 32px;\n",
              "    }\n",
              "\n",
              "    .colab-df-convert:hover {\n",
              "      background-color: #E2EBFA;\n",
              "      box-shadow: 0px 1px 2px rgba(60, 64, 67, 0.3), 0px 1px 3px 1px rgba(60, 64, 67, 0.15);\n",
              "      fill: #174EA6;\n",
              "    }\n",
              "\n",
              "    [theme=dark] .colab-df-convert {\n",
              "      background-color: #3B4455;\n",
              "      fill: #D2E3FC;\n",
              "    }\n",
              "\n",
              "    [theme=dark] .colab-df-convert:hover {\n",
              "      background-color: #434B5C;\n",
              "      box-shadow: 0px 1px 3px 1px rgba(0, 0, 0, 0.15);\n",
              "      filter: drop-shadow(0px 1px 2px rgba(0, 0, 0, 0.3));\n",
              "      fill: #FFFFFF;\n",
              "    }\n",
              "  </style>\n",
              "\n",
              "      <script>\n",
              "        const buttonEl =\n",
              "          document.querySelector('#df-76985546-536d-41c6-901e-d1eb62a53a3c button.colab-df-convert');\n",
              "        buttonEl.style.display =\n",
              "          google.colab.kernel.accessAllowed ? 'block' : 'none';\n",
              "\n",
              "        async function convertToInteractive(key) {\n",
              "          const element = document.querySelector('#df-76985546-536d-41c6-901e-d1eb62a53a3c');\n",
              "          const dataTable =\n",
              "            await google.colab.kernel.invokeFunction('convertToInteractive',\n",
              "                                                     [key], {});\n",
              "          if (!dataTable) return;\n",
              "\n",
              "          const docLinkHtml = 'Like what you see? Visit the ' +\n",
              "            '<a target=\"_blank\" href=https://colab.research.google.com/notebooks/data_table.ipynb>data table notebook</a>'\n",
              "            + ' to learn more about interactive tables.';\n",
              "          element.innerHTML = '';\n",
              "          dataTable['output_type'] = 'display_data';\n",
              "          await google.colab.output.renderOutput(dataTable, element);\n",
              "          const docLink = document.createElement('div');\n",
              "          docLink.innerHTML = docLinkHtml;\n",
              "          element.appendChild(docLink);\n",
              "        }\n",
              "      </script>\n",
              "    </div>\n",
              "  </div>\n",
              "  "
            ]
          },
          "metadata": {},
          "execution_count": 137
        }
      ]
    },
    {
      "cell_type": "code",
      "source": [
        "# let's make some visualizations for topics 4' keywords (as topic 4 is the hottest topics among 5)\n",
        "from wordcloud import WordCloud\n",
        "\n",
        "wordcloud = WordCloud(width = 800, height = 800,\n",
        "                background_color ='white',\n",
        "                stopwords = stopwords,\n",
        "                min_font_size = 10)"
      ],
      "metadata": {
        "id": "-l79NfsR5Yr2"
      },
      "execution_count": 135,
      "outputs": []
    },
    {
      "cell_type": "code",
      "source": [
        "wordcloud.generate(' '.join(topics_keywords_df.iloc[-1, :]))\n",
        "\n",
        "plt.figure(figsize=(8, 5))\n",
        "plt.title(label = 'Words Cloud for Topic 4', fontsize=20, color = 'blue')\n",
        "plt.imshow(wordcloud)\n",
        "plt.axis('off')\n",
        "plt.show()"
      ],
      "metadata": {
        "colab": {
          "base_uri": "https://localhost:8080/",
          "height": 324
        },
        "id": "o__lncyi6JGm",
        "outputId": "3a48aea6-96c1-4a5f-aea8-99c13f2c0d8c"
      },
      "execution_count": 152,
      "outputs": [
        {
          "output_type": "display_data",
          "data": {
            "text/plain": [
              "<Figure size 576x360 with 1 Axes>"
            ],
            "image/png": "[encoded data removed]"
          },
          "metadata": {
            "needs_background": "light"
          }
        }
      ]
    },
    {
      "cell_type": "code",
      "source": [
        "topics_words_df[topics_keywords_df.iloc[-1, :].tolist()].iloc[-1, :].plot.bar(cmap='Set3')"
      ],
      "metadata": {
        "colab": {
          "base_uri": "https://localhost:8080/",
          "height": 297
        },
        "id": "aHU56KsZ7dfM",
        "outputId": "c9a13fa0-03e0-4aa0-b02e-92dfe1d32d2c"
      },
      "execution_count": 167,
      "outputs": [
        {
          "output_type": "execute_result",
          "data": {
            "text/plain": [
              "<matplotlib.axes._subplots.AxesSubplot at 0x7fa7cce036d0>"
            ]
          },
          "metadata": {},
          "execution_count": 167
        },
        {
          "output_type": "display_data",
          "data": {
            "text/plain": [
              "<Figure size 432x288 with 1 Axes>"
            ],
            "image/png": "[encoded data removed]"
          },
          "metadata": {
            "needs_background": "light"
          }
        }
      ]
    }
  ]
}